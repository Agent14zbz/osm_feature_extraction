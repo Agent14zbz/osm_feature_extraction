{
 "cells": [
  {
   "cell_type": "code",
   "execution_count": 15,
   "metadata": {},
   "outputs": [],
   "source": [
    "import os\n",
    "import time\n",
    "import xml.dom.minidom as xmldom\n",
    "import math\n",
    "\n",
    "import pandas as pd\n",
    "import geopandas as gpd"
   ]
  },
  {
   "cell_type": "code",
   "execution_count": 2,
   "metadata": {},
   "outputs": [],
   "source": [
    "def convert_pbf_osm (pbf_file) :\n",
    "    '''\n",
    "    使用osmconverter.exe将pbf转码为osm，保存在原目录\n",
    "    '''\n",
    "    starttime = time.time()\n",
    "    base_path = 'E:/AAA_Study/202003_GraduationProject/'\n",
    "    osmconvert_path = base_path + 'osmconvert'\n",
    "    osm_file = pbf_file.replace('.osm.pbf','.osm')\n",
    "    \n",
    "    terminal_code = '{} {} > {}'.format(osmconvert_path,pbf_file,osm_file)\n",
    "    os.system(terminal_code)\n",
    "    endtime = time.time()\n",
    "    print ('{} converted to {}'.format(pbf_file,osm_file))\n",
    "    print('step total time:', round(endtime - starttime, 2),'secs')"
   ]
  },
  {
   "cell_type": "code",
   "execution_count": 62,
   "metadata": {},
   "outputs": [],
   "source": [
    "def campus_extract(osmfilename):\n",
    "    '''\n",
    "    使用osmfilter.exe筛选全部amenity=university，保存在原目录\n",
    "    '''\n",
    "    starttime = time.time()\n",
    "    sel_osmkey = 'amenity'\n",
    "    sel_osmvalue = ['university']\n",
    "    country_name = os.path.split(osmfilename)[1]\n",
    "    osmfilter_path = 'E:/AAA_Study/202003_GraduationProject/' + 'osmfilter'\n",
    "    \n",
    "    for value in sel_osmvalue:\n",
    "        sel_element = sel_osmkey + \"=\" + value\n",
    "        print (sel_element)\n",
    "        output_sel = osmfilename.replace('.osm','_{}.osm'.format(value))\n",
    "        print (output_sel)\n",
    "        terminal_code = '{} {} --keep=\"{}\" -o={}'.format(osmfilter_path,osmfilename,sel_element,output_sel)\n",
    "        os.system(terminal_code)\n",
    "    endtime = time.time()\n",
    "    print(country_name + \"----------\" + sel_element + \" extracted success!\")\n",
    "    print('step total time:', round(endtime - starttime, 2),'secs')"
   ]
  },
  {
   "cell_type": "code",
   "execution_count": 95,
   "metadata": {},
   "outputs": [],
   "source": [
    "def parseValidData (INPUT_OSM):\n",
    "    '''\n",
    "    使用xmldom对第一步提取后的osm校园文件进行数据筛选，提出building等无效数据，仅保留有地块信息的高校数据，返回sub_element_n,sub_element_w\n",
    "    '''\n",
    "    print('...')\n",
    "    dom = xmldom.parse(INPUT_OSM)\n",
    "    element = dom.documentElement\n",
    "    sub_element_n = element.getElementsByTagName(\"node\")\n",
    "    sub_element_w_raw = element.getElementsByTagName(\"way\")\n",
    "    print('\"way\" element raw data:',len(sub_element_w_raw))\n",
    "    for i in range(len(sub_element_w_raw)):\n",
    "        way_tags = sub_element_w_raw[i].getElementsByTagName(\"tag\")\n",
    "        string = ''\n",
    "        for j in range(len(way_tags)):   \n",
    "            string = string + way_tags[j].getAttribute('k')+way_tags[j].getAttribute('v')\n",
    "        if 'university' not in string or 'building' in string:\n",
    "            element.removeChild(sub_element_w_raw[i])\n",
    "    sub_element_w = element.getElementsByTagName(\"way\")\n",
    "    print('\"way\" element:',len(sub_element_w))\n",
    "    print('\"node\" element:',len(sub_element_n))\n",
    "    print('data parsing done!')\n",
    "    return sub_element_n,sub_element_w"
   ]
  },
  {
   "cell_type": "code",
   "execution_count": null,
   "metadata": {},
   "outputs": [],
   "source": []
  }
 ],
 "metadata": {
  "kernelspec": {
   "display_name": "Python 3",
   "language": "python",
   "name": "python3"
  },
  "language_info": {
   "codemirror_mode": {
    "name": "ipython",
    "version": 3
   },
   "file_extension": ".py",
   "mimetype": "text/x-python",
   "name": "python",
   "nbconvert_exporter": "python",
   "pygments_lexer": "ipython3",
   "version": "3.7.3"
  }
 },
 "nbformat": 4,
 "nbformat_minor": 2
}
