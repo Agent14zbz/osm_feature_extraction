{
 "cells": [
  {
   "cell_type": "code",
   "execution_count": 1,
   "metadata": {},
   "outputs": [],
   "source": [
    "import os\n",
    "import pandas as pd"
   ]
  },
  {
   "cell_type": "code",
   "execution_count": 3,
   "metadata": {
    "scrolled": false
   },
   "outputs": [
    {
     "data": {
      "text/plain": [
       "<bound method NDFrame.head of        type_code      OSM-ID        lat       lon  \\\n",
       "0            161   N33980285  47.288603  8.541175   \n",
       "1            161   N33980322  47.285210  8.555128   \n",
       "2            161   N33980329  47.288000  8.557131   \n",
       "3             29   N34039212  47.495518  8.741556   \n",
       "4             29   N34040796  47.483065  8.705704   \n",
       "...          ...         ...        ...       ...   \n",
       "28001         19  W778566970  47.375154  8.553941   \n",
       "28002         20  W779089785  47.407288  8.683823   \n",
       "28003         21  W782483814  47.413178  8.694417   \n",
       "28004         20  W784249984  47.432694  8.677767   \n",
       "28005         16  W785856216  47.294138  8.794366   \n",
       "\n",
       "                                 what  \n",
       "0                   Langnau a.A. Dorf  \n",
       "1                        Gattikerhöhe  \n",
       "2                               Ebnet  \n",
       "3      Hallenbadrestaurant Geiselweid  \n",
       "4           Schwimmbadrestaurant Töss  \n",
       "...                               ...  \n",
       "28001                   Careum Campus  \n",
       "28002         Kindergarten Kindhausen  \n",
       "28003            Primarschule Bisikon  \n",
       "28004            Kindergarten Oberwis  \n",
       "28005  Alters- und Pflegeheim Grüneck  \n",
       "\n",
       "[28006 rows x 5 columns]>"
      ]
     },
     "execution_count": 3,
     "metadata": {},
     "output_type": "execute_result"
    }
   ],
   "source": [
    "#for planet \n",
    "# JUST ONCE\n",
    "\n",
    "input_pbf  = 'E:/AAA_Study/202003_GraduationProject/MapData/OSMData/sources/zurich_switzerland.osm.pbf'\n",
    "input_csv = input_n.replace('.osm.pbf','.csv')\n",
    "jar_path = 'E:/0_jars/osmpois.jar'\n",
    "\n",
    "# print ('java -Xmx8g -jar osmpois.jar --outputFile {} {}'.format(output_n,input_n))\n",
    "# os.system('java -Xmx32g -jar E:/0_jars/osmpois.jar --outputTags , --outputFile {} {}'.format(output_n,input_n))\n",
    "\n",
    "# convert the format of csvs to types \n",
    "pois = pd.read_csv(output_n,sep='|',header=None).dropna()\n",
    "pois.index = range(pois.shape[0])\n",
    "pois.columns = ['type_code','OSM-ID','lat','lon','what']\n",
    "pois['type_code'] = pois['type_code'].values[:].astype(int)\n",
    "\n",
    "pois.to_csv()\n",
    "# merged = pd.merge(pois,poi_type_met,on='type_code',how='outer').dropna()\n",
    "# #remove the redundant csvs\n",
    "# # os.system('rm {}'.format(output_n))\n",
    "# output_n = output_n.replace('.csv','_poiswithtypes.csv')\n",
    "# merged.to_csv(output_n,index=False)\n",
    "# print (i,input_n.replace(path,''))"
   ]
  },
  {
   "cell_type": "code",
   "execution_count": null,
   "metadata": {},
   "outputs": [],
   "source": []
  }
 ],
 "metadata": {
  "kernelspec": {
   "display_name": "Python 3",
   "language": "python",
   "name": "python3"
  },
  "language_info": {
   "codemirror_mode": {
    "name": "ipython",
    "version": 3
   },
   "file_extension": ".py",
   "mimetype": "text/x-python",
   "name": "python",
   "nbconvert_exporter": "python",
   "pygments_lexer": "ipython3",
   "version": "3.7.3"
  }
 },
 "nbformat": 4,
 "nbformat_minor": 2
}
