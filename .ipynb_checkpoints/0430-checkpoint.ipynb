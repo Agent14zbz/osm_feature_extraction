{
 "cells": [
  {
   "cell_type": "markdown",
   "metadata": {},
   "source": [
    "#### \n",
    "![](微信截图_20200428083544.png)"
   ]
  },
  {
   "cell_type": "code",
   "execution_count": 1,
   "metadata": {},
   "outputs": [],
   "source": [
    "import os"
   ]
  },
  {
   "cell_type": "code",
   "execution_count": 6,
   "metadata": {},
   "outputs": [],
   "source": [
    "def png_jpg (directory):\n",
    "    pngfiles = os.listdir(directory)\n",
    "    for png in pngfiles:\n",
    "        Olddir=os.path.join(directory,png)\n",
    "        filename=os.path.splitext(png)[0]\n",
    "        filetype=os.path.splitext(png)[1]\n",
    "        newfiletype = filetype.replace('png','jpg')\n",
    "        Newdir = os.path.join(directory,filename+newfiletype)\n",
    "        os.rename(Olddir,Newdir)"
   ]
  },
  {
   "cell_type": "code",
   "execution_count": 7,
   "metadata": {},
   "outputs": [],
   "source": [
    "png_jpg('E:/AAA_Study/202003_GraduationProject/Learning/images')"
   ]
  },
  {
   "cell_type": "code",
   "execution_count": null,
   "metadata": {},
   "outputs": [],
   "source": []
  },
  {
   "cell_type": "code",
   "execution_count": 4,
   "metadata": {},
   "outputs": [],
   "source": [
    "import os\n",
    "import xml.etree.cElementTree as ET\n",
    "import pandas as pd\n",
    "import numpy as np\n",
    "import xml.dom.minidom as xmldom"
   ]
  },
  {
   "cell_type": "markdown",
   "metadata": {},
   "source": [
    "## 数据获取流程\n",
    "### 1.pbf文件提取基础POI信息——工具：osmpois"
   ]
  },
  {
   "cell_type": "code",
   "execution_count": null,
   "metadata": {},
   "outputs": [],
   "source": [
    "#筛选出全部POI\n",
    "def extractPOI(PBF_PATH, EXTRACT_PATH):\n",
    "    pbfdata_files = os.listdir(PBF_PATH)\n",
    "    \n",
    "    for pbf in pbfdata_files:\n",
    "        if os.path.splitext(pbf)[1] == '.pbf':\n",
    "            print(pbf)\n",
    "            output_csv_fullname = os.path.join(EXTRACT_PATH ,pbf.replace('.osm.pbf','_all.csv'))\n",
    "            TERMINAL_CODE1 = 'cd '+ PBF_PATH\n",
    "            TERMINAL_CODE2 = 'java -jar osmpois.jar -of {} {}'.format(output_csv_fullname,pbf)\n",
    "            os.system(TERMINAL_CODE1 + \" && \" + TERMINAL_CODE2)\n",
    "            print(pbf + '--ALL POI EXTRACTED')"
   ]
  },
  {
   "cell_type": "code",
   "execution_count": null,
   "metadata": {},
   "outputs": [],
   "source": [
    "PBF_PATH = 'E:/AAA_Study/202003_GraduationProject/MapData/OSMData/sources'\n",
    "EXTRACT_PATH = 'E:/AAA_Study/202003_GraduationProject/MapData/OSMData/POI_extract_all'\n",
    "\n",
    "extractPOI(PBF_PATH,EXTRACT_PATH)"
   ]
  },
  {
   "cell_type": "code",
   "execution_count": null,
   "metadata": {},
   "outputs": [],
   "source": [
    "#筛选出全部university和college的POI\n",
    "def extractCampusPOI (INPUT_CSV_PATH, OUTPUT_CSV_PATH) :\n",
    "    input_files = os.listdir(INPUT_CSV_PATH)\n",
    "    for csv in input_files:\n",
    "        input_csv_fullname = os.path.join(INPUT_CSV_PATH,csv)\n",
    "        output_csv_fullname = os.path.join(OUTPUT_CSV_PATH,csv.replace('_all.csv','_campus.csv'))\n",
    "        \n",
    "        pois = pd.read_csv(input_csv_fullname,sep='|',header=None,low_memory=False).dropna()\n",
    "        print(csv + '--ALL POI: '+ str(pois.shape))\n",
    "        \n",
    "        pois.index = range(pois.shape[0])\n",
    "        pois.columns = ['type_code','OSM-ID','lat','lon','name']\n",
    "        pois['type_code'] = pois['type_code'].values[:].astype(int)\n",
    "\n",
    "        university_pois = pois[(pois['type_code'] == 22)]\n",
    "        university_pois.to_csv(output_csv_fullname,index=0,encoding='utf-8-sig')\n",
    "        print(csv + '--CAMPUS POI EXTRACTED: '+ str(campus_pois.shape))"
   ]
  },
  {
   "cell_type": "code",
   "execution_count": null,
   "metadata": {},
   "outputs": [],
   "source": []
  },
  {
   "cell_type": "markdown",
   "metadata": {},
   "source": [
    "### 2.筛除废数据，先将pbf解压为osm，按照id访问osm文件，按照tag进行剔除——工具：osmconvert、osmfilter\n",
    "### 3.获取每个campus轮廓的四边界"
   ]
  },
  {
   "cell_type": "code",
   "execution_count": 2,
   "metadata": {},
   "outputs": [],
   "source": [
    "def count_tags(filename):\n",
    "    osm = ET.ElementTree(file=filename)\n",
    "    root = osm.getroot()\n",
    "    tags_count_dic = {root.tag:0}\n",
    "    for _,ele in ET.iterparse(filename,events=('start',)):\n",
    "        if ele.tag in tags_count_dic:\n",
    "            tags_count_dic[ele.tag] += 1\n",
    "        else:\n",
    "            tags_count_dic[ele.tag] = 1\n",
    "    return tags_count_dic"
   ]
  },
  {
   "cell_type": "code",
   "execution_count": 3,
   "metadata": {},
   "outputs": [
    {
     "data": {
      "text/plain": [
       "{'osm': 1,\n",
       " 'bounds': 1,\n",
       " 'node': 32017,\n",
       " 'tag': 10858,\n",
       " 'way': 1489,\n",
       " 'nd': 34677,\n",
       " 'relation': 74,\n",
       " 'member': 545}"
      ]
     },
     "execution_count": 3,
     "metadata": {},
     "output_type": "execute_result"
    }
   ],
   "source": [
    "OSM_PATH = 'E:/AAA_Study/202003_GraduationProject/MapData/OSMData/sources/great_britain_latest_university.osm'\n",
    "count_tags(OSM_PATH)"
   ]
  },
  {
   "cell_type": "code",
   "execution_count": null,
   "metadata": {},
   "outputs": [],
   "source": []
  },
  {
   "cell_type": "code",
   "execution_count": null,
   "metadata": {},
   "outputs": [],
   "source": []
  },
  {
   "cell_type": "code",
   "execution_count": null,
   "metadata": {},
   "outputs": [],
   "source": []
  },
  {
   "cell_type": "code",
   "execution_count": null,
   "metadata": {},
   "outputs": [],
   "source": [
    "#pbf转码为osm\n",
    "def convert_pbf_osm (pbf_file) :\n",
    "    base_path = 'E:/AAA_Study/202003_GraduationProject/'\n",
    "    osmconvert_path = base_path + 'osmconvert'\n",
    "    osm_file = pbf_file.replace('.osm.pbf','.osm')\n",
    "    \n",
    "    terminal_code = '{} {} > {}'.format(osmconvert_path,pbf_file,osm_file)\n",
    "    os.system(terminal_code)\n",
    "    print ('{} converted to {}'.format(pbf_file,osm_file))"
   ]
  },
  {
   "cell_type": "code",
   "execution_count": null,
   "metadata": {},
   "outputs": [],
   "source": [
    "OSMPBF_PATH = \"E:/AAA_Study/202003_GraduationProject/MapData/OSMData/sources/great_britain_latest.osm.pbf\"\n",
    "convert_pbf_osm(OSMPBF_PATH)"
   ]
  },
  {
   "cell_type": "code",
   "execution_count": null,
   "metadata": {},
   "outputs": [],
   "source": [
    "#campus提取\n",
    "def campus_extract(osmfilename):\n",
    "    sel_osmkey = 'amenity'\n",
    "    sel_osmvalue = ['university']\n",
    "    country_name = os.path.split(osmfilename)[1]\n",
    "    osmfilter_path = 'E:/AAA_Study/202003_GraduationProject/' + 'osmfilter'\n",
    "    \n",
    "    for value in sel_osmvalue:\n",
    "        sel_element = sel_osmkey + \"=\" + value\n",
    "        print (sel_element)\n",
    "        output_sel = osmfilename.replace('.osm','_{}.osm'.format(value))\n",
    "        print (output_sel)\n",
    "        terminal_code = '{} {} --keep=\"{}\" -o={}'.format(osmfilter_path,osmfilename,sel_element,output_sel)\n",
    "        os.system(terminal_code)\n",
    "    print(country_name + \"----------\" + sel_element + \" extracted success!\")\n",
    "   "
   ]
  },
  {
   "cell_type": "code",
   "execution_count": null,
   "metadata": {},
   "outputs": [],
   "source": [
    "OSM_PATH = \"E:/AAA_Study/202003_GraduationProject/MapData/OSMData/sources/great_britain_latest.osm\"\n",
    "campus_extract(OSM_PATH)"
   ]
  },
  {
   "cell_type": "code",
   "execution_count": null,
   "metadata": {},
   "outputs": [],
   "source": [
    "#从osm文件中筛选可用的university campus的POI\n",
    "def screenData (INPUT_OSM,OUTPUT_CSV):\n",
    "    print('starting screening data...')\n",
    "    dom = xmldom.parse(INPUT_OSM)\n",
    "    element = dom.documentElement\n",
    "    sub_element_n = element.getElementsByTagName(\"node\")\n",
    "    sub_element_w = element.getElementsByTagName(\"way\")\n",
    "    print('raw university data:' + len(sub_element_w))\n",
    "\n",
    "    campusDataStack = []\n",
    "    bboxDataStack = []\n",
    "    \n",
    "    for i in range(len(sub_element_w)):\n",
    "        way_tags = sub_element_w[i].getElementsByTagName(\"tag\")\n",
    "        string = ''\n",
    "        name = ''\n",
    "        for j in range(len(way_tags)):    \n",
    "            string = string + way_tags[j].getAttribute('k')+way_tags[j].getAttribute('v')\n",
    "            if way_tags[j].getAttribute('k') == 'name'\n",
    "                name = way_tags[j].getAttribute('v')\n",
    "        if 'university' in string and 'building' not in string:\n",
    "            temp_lat = []\n",
    "            temp_lon = []\n",
    "            way_nds = sub_element_w[i].getElementsByTagName(\"nd\")\n",
    "\n",
    "            for k in range(len(way_nds)):\n",
    "                node_id = way_nds[k].getAttribute('ref')\n",
    "                for m in range(len(sub_element_n)):\n",
    "                    if sub_element_n[m].getAttribute('id') == node_id:\n",
    "                        temp_lat.append(sub_element_n[m].getAttribute('lat'))\n",
    "                        temp_lon.append(sub_element_n[m].getAttribute('lon'))\n",
    "\n",
    "            campusDataStack.append([way_tags[j].getAttribute('id') , avg(temp_lat) , avg(temp_lon) , name])\n",
    "            bboxDataStack.append([max(temp_lat),min(temp_lat),max(temp_lon),min(temp_lon)])\n",
    "    campusData = pd.DataFrame(campusDataStack,columns=['OSMID','center_lat','center_lon','name'])\n",
    "    bboxData = pd.DataFrame(bboxDataStack,columns=['north','south','east','west'])\n",
    "    print('final university data:')\n",
    "    print(campusData.shape)\n",
    "    finalData = pd.merge(campusData,bboxData)\n",
    "    finalData.to_csv(OUTPUT_CSV,index=0,encoding='utf-8-sig')"
   ]
  },
  {
   "cell_type": "code",
   "execution_count": null,
   "metadata": {},
   "outputs": [],
   "source": [
    "#检查全部数据，筛除无用数据并获取bbox\n",
    "def screenData (INPUT_CSV,INPUT_OSM,OUTPUT_CSV) :\n",
    "    rawData = pd.read_csv(INPUT_CSV)\n",
    "    print('raw university data:')\n",
    "    print(rawData.shape)\n",
    "    \n",
    "    columns = rawData.columns.values #获取表头\n",
    "    newDataStack = pd.DataFrame(columns=columns)\n",
    "    bboxDataStack = []\n",
    "    \n",
    "    dom = xmldom.parse(INPUT_OSM)\n",
    "    element = dom.documentElement\n",
    "    sub_element_n = element.getElementsByTagName(\"node\")\n",
    "    sub_element_w = element.getElementsByTagName(\"way\")\n",
    "    \n",
    "    #筛除无用数据：node数据和building……\n",
    "    for ID in rawData['OSM-ID']:\n",
    "        if 'W' in ID :\n",
    "            real_id = ID.replace('W','')\n",
    "            for i in range(len(sub_element_w)):\n",
    "                if sub_element_w[i].getAttribute('id') == real_id:\n",
    "                    way_tags = sub_element_w[i].getElementsByTagName(\"tag\")\n",
    "                    string = ''\n",
    "                    for j in range(len(way_tags)):    \n",
    "                        string = string + way_tags[j].getAttribute('k')+way_tags[j].getAttribute('v')\n",
    "                    if 'university'or'college' in string and 'building' not in string:\n",
    "                        line = rawData.loc[rawData['OSM-ID'] == ID].values\n",
    "                        newDataStack = np.vstack((newDataStack,line))\n",
    "                        \n",
    "    #获取每个campus(way)的四边界经纬度……\n",
    "    newData = pd.DataFrame(newDataStack,columns=columns)\n",
    "    for newID in newData['OSM-ID']:\n",
    "        way_id = newID[1:]\n",
    "        temp_lat = []\n",
    "        temp_lon = []\n",
    "        for m in range(len(sub_element_w)):\n",
    "            if sub_element_w[m].getAttribute('id') == way_id:\n",
    "                way_nds = sub_element_w[m].getElementsByTagName(\"nd\")\n",
    "                for n in range(len(way_nds)):\n",
    "                    node_id = way_nds[n].getAttribute('ref')\n",
    "                    for p in range(len(sub_element_n)):\n",
    "                        if sub_element_n[p].getAttribute('id') == node_id:\n",
    "                            temp_lat.append(sub_element_n[p].getAttribute('lat'))\n",
    "                            temp_lon.append(sub_element_n[p].getAttribute('lon'))\n",
    "        bboxDataStack.append([max(temp_lat),min(temp_lat),max(temp_lon),min(temp_lon)])\n",
    "                            \n",
    "            \n",
    "    bboxData = pd.DataFrame(bboxDataStack,columns=['north','south','east','west'])\n",
    "    print('final university data:')\n",
    "    print(newData.shape)\n",
    "    newData.to_csv(OUTPUT_CSV,index=0,encoding='utf-8-sig')\n",
    "    bboxData.to_csv(OUTPUT_CSV.replace('.csv','_bbox.csv'),index=0,encoding='utf-8-sig')\n",
    "                        "
   ]
  },
  {
   "cell_type": "code",
   "execution_count": null,
   "metadata": {},
   "outputs": [],
   "source": [
    "INPUT_CSV = 'E:/AAA_Study/202003_GraduationProject/MapData/OSMData/POI_extract_campus/great_britain_latest_campus.csv'\n",
    "INPUT_OSM = 'E:/AAA_Study/202003_GraduationProject/MapData/OSMData/education/great_britain_latest_university.osm'\n",
    "OUTPUT_CSV = INPUT_CSV.replace('.csv','_new.csv')\n",
    "screenData(INPUT_CSV,INPUT_OSM,OUTPUT_CSV)"
   ]
  }
 ],
 "metadata": {
  "kernelspec": {
   "display_name": "Python 3",
   "language": "python",
   "name": "python3"
  },
  "language_info": {
   "codemirror_mode": {
    "name": "ipython",
    "version": 3
   },
   "file_extension": ".py",
   "mimetype": "text/x-python",
   "name": "python",
   "nbconvert_exporter": "python",
   "pygments_lexer": "ipython3",
   "version": "3.7.3"
  }
 },
 "nbformat": 4,
 "nbformat_minor": 2
}
