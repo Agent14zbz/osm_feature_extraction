{
 "cells": [
  {
   "cell_type": "code",
   "execution_count": 19,
   "metadata": {},
   "outputs": [],
   "source": [
    "import glob\n",
    "import os\n",
    "\n"
   ]
  },
  {
   "cell_type": "code",
   "execution_count": 20,
   "metadata": {},
   "outputs": [],
   "source": [
    "data_dir = \"E:/AAA_Study/202003_GraduationProject/MapData/OSMData/\"\n",
    "OSMData_filenames = []\n",
    "counter = 1"
   ]
  },
  {
   "cell_type": "code",
   "execution_count": 21,
   "metadata": {},
   "outputs": [
    {
     "name": "stdout",
     "output_type": "stream",
     "text": [
      "2\n"
     ]
    },
    {
     "data": {
      "text/plain": [
       "['E:/AAA_Study/202003_GraduationProject/MapData/OSMData\\\\south-america-latest.osm.pbf',\n",
       " 'E:/AAA_Study/202003_GraduationProject/MapData/OSMData\\\\switzerland-latest.osm.pbf']"
      ]
     },
     "execution_count": 21,
     "metadata": {},
     "output_type": "execute_result"
    }
   ],
   "source": [
    "for filename in glob.glob(os.path.join(data_dir, '*.pbf')):    \n",
    "    OSMData_filenames.append(filename)\n",
    "\n",
    "print (len(OSMData_filenames))\n",
    "OSMData_filenames"
   ]
  },
  {
   "cell_type": "code",
   "execution_count": null,
   "metadata": {},
   "outputs": [],
   "source": [
    "def convert_extract_convert(input_args):\n",
    "    inp_fn = input_args[0]\n",
    "    sel_element = input_args[1]\n",
    "    #input should be .osm.pbf \n",
    "    #output should be .osm\n",
    "    # we call this code from here, but it will be running in terminal\n",
    "    \n",
    "    # be extremely careful for this step if you are running it in parallel\n",
    "    out_fn = inp_fn.replace('.osm.pbf','.osm')\n",
    "    # Take the full path from your folder, where osmconvert is placed\n",
    "    full_path = '/All_Files/Files/Research_2015/presentations/South_East_University/SEU_2019/'\n",
    "    osmconvert_path = full_path + 'osmconvert'\n",
    "    inp_fn = full_path + inp_fn.replace('../','')\n",
    "    out_fn = full_path + out_fn.replace('../','')\n",
    "    terminal_code = '{} {} > {}'.format(osmconvert_path,inp_fn,out_fn)\n",
    "    os.system(terminal_code)\n",
    "    print ('{} converted to {}'.format(inp_fn,out_fn))\n",
    "    \n",
    "     # EXTRACT\n",
    "    # For airports keyvalues\n",
    "    if sel_element == 'airport':\n",
    "        \n",
    "        osmfilter_path = full_path + 'osmfilter'\n",
    "        out_sel_element = out_fn.replace('.osm','-{}.osm'.format(sel_element)).replace('sources','airport')\n",
    "        print (out_sel_element)\n",
    "        terminal_code = '{} {} --keep=aeroway=* -o={}'.format(osmfilter_path,out_fn,out_sel_element)\n",
    "    \n",
    "    os.system(terminal_code)\n",
    "    \n",
    "    print ('{} extracted from {}'.format(sel_element,out_fn))  \n",
    "    \n",
    "    #Now you can delete the main .osm file since they are large\n",
    "    \n",
    "    os.remove(out_fn)\n",
    "    \n",
    "    # And then empty the trash\n",
    "    \n",
    "    # In linux to empty\n",
    "    # trash-empty  \n",
    "    # In mac to empty\n",
    "    \n",
    "#     os.system('rm -rf ~/.Trash/*')\n",
    "    \n",
    "    #in windows\n",
    "#     os.system('rd /s c:\\$Recycle.Bin')\n",
    "    #CONVERT THE EXTRACT TO GEOJSON FILES\n",
    "    #for points \n",
    "    terminal_code = 'ogr2ogr -f GeoJSON {} {} points'.format(out_sel_element.replace('.osm','-points.geojson'),out_sel_element)\n",
    "    \n",
    "    os.system(terminal_code)\n",
    "    \n",
    "    print ('points extracted')\n",
    "    \n",
    "    #for lines\n",
    "    terminal_code = 'ogr2ogr -f GeoJSON {} {} lines'.format(out_sel_element.replace('.osm','-lines.geojson'),out_sel_element)\n",
    "    \n",
    "    os.system(terminal_code)\n",
    "    \n",
    "    print ('lines extracted')\n",
    "    \n",
    "    #for multipolygons\n",
    "    terminal_code = 'ogr2ogr -f GeoJSON {} {} multipolygons'.format(out_sel_element.replace('.osm','-multipolygons.geojson'),out_sel_element)\n",
    "    \n",
    "    os.system(terminal_code)\n",
    "    \n",
    "    print ('multipolygons extracted')"
   ]
  }
 ],
 "metadata": {
  "kernelspec": {
   "display_name": "Python 3",
   "language": "python",
   "name": "python3"
  },
  "language_info": {
   "codemirror_mode": {
    "name": "ipython",
    "version": 3
   },
   "file_extension": ".py",
   "mimetype": "text/x-python",
   "name": "python",
   "nbconvert_exporter": "python",
   "pygments_lexer": "ipython3",
   "version": "3.7.3"
  }
 },
 "nbformat": 4,
 "nbformat_minor": 2
}
