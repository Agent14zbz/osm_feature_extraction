{
 "cells": [
  {
   "cell_type": "markdown",
   "metadata": {},
   "source": [
    "### OSM数据筛选获取（源自Vahid课程资料）\n",
    "* osmconvert & osmfilter\n",
    "* https://wiki.openstreetmap.org/wiki/Map_Features#Highway\n",
    "* https://journocode.com/2018/01/extract-geodata-openstreetmap-osmfilter/"
   ]
  },
  {
   "cell_type": "code",
   "execution_count": 1,
   "metadata": {},
   "outputs": [],
   "source": [
    "import glob\n",
    "import os"
   ]
  },
  {
   "cell_type": "code",
   "execution_count": 2,
   "metadata": {},
   "outputs": [],
   "source": [
    "data_dir = \"E:\\\\AAA_Study\\\\202003_GraduationProject\\\\MapData\\\\OSMData\\\\sources\\\\\"\n",
    "OSMData_filenames = []\n",
    "counter = 1"
   ]
  },
  {
   "cell_type": "code",
   "execution_count": 3,
   "metadata": {},
   "outputs": [
    {
     "name": "stdout",
     "output_type": "stream",
     "text": [
      "1\n",
      "['E:\\\\AAA_Study\\\\202003_GraduationProject\\\\MapData\\\\OSMData\\\\sources\\\\beijing_china.osm.pbf']\n"
     ]
    },
    {
     "data": {
      "text/plain": [
       "['E:\\\\AAA_Study\\\\202003_GraduationProject\\\\MapData\\\\OSMData\\\\sources\\\\beijing_china.osm.pbf']"
      ]
     },
     "execution_count": 3,
     "metadata": {},
     "output_type": "execute_result"
    }
   ],
   "source": [
    "for filename in glob.glob(os.path.join(data_dir, '*.pbf')):    \n",
    "    OSMData_filenames.append(filename)\n",
    "\n",
    "print (len(OSMData_filenames))\n",
    "print (OSMData_filenames)\n",
    "OSMData_filenames"
   ]
  },
  {
   "cell_type": "code",
   "execution_count": 6,
   "metadata": {},
   "outputs": [],
   "source": [
    "def convert_extract_convert(input_args):\n",
    "    inp_fn = input_args[0]\n",
    "    sel_element = input_args[1]\n",
    "    out_fn = inp_fn.replace('.osm.pbf','.osm')\n",
    "\n",
    "    full_path = 'E:/AAA_Study/202003_GraduationProject/'\n",
    "    \n",
    "    osmconvert_path = full_path + 'osmconvert'\n",
    "#     inp_fn = full_path + inp_fn.replace('../','')\n",
    "#     out_fn = full_path + out_fn.replace('../','')\n",
    "    terminal_code = '{} {} > {}'.format(osmconvert_path,inp_fn,out_fn)\n",
    "    os.system(terminal_code)\n",
    "    print ('{} converted to {}'.format(inp_fn,out_fn))\n",
    "    \n",
    "    \n",
    "    # EXTRACT\n",
    "    if sel_element == 'airport':\n",
    "        \n",
    "        osmfilter_path = full_path + 'osmfilter'\n",
    "        out_sel_element = out_fn.replace('.osm','-{}.osm'.format(sel_element))\n",
    "        print (out_sel_element)\n",
    "        terminal_code = '{} {} --keep=\"areoway\" -o={}'.format(osmfilter_path,out_fn,out_sel_element)\n",
    "    \n",
    "    os.system(terminal_code)\n",
    "    \n",
    "    print ('{} extracted from {}'.format(sel_element,out_fn))  \n",
    "    \n",
    "    #Now you can delete the main .osm file since they are large\n",
    "    \n",
    "#     os.remove(out_fn)\n",
    "    \n",
    "    # And then empty the trash:\n",
    "    # In linux to empty\n",
    "    # trash-empty  \n",
    "    # In mac to empty\n",
    "    #os.system('rm -rf ~/.Trash/*')\n",
    "    #in windows\n",
    "    #os.system('rd /s c:\\$Recycle.Bin')\n",
    "    \n",
    "    \n",
    "    #CONVERT THE EXTRACT TO GEOJSON FILES\n",
    "    #for points \n",
    "    terminal_code = 'ogr2ogr -f GeoJSON {} {} points'.format(out_sel_element.replace('.osm','-points.geojson'),out_sel_element)\n",
    "    \n",
    "    os.system(terminal_code)\n",
    "    \n",
    "    print ('points extracted')\n",
    "    \n",
    "    #for lines\n",
    "    terminal_code = 'ogr2ogr -f GeoJSON {} {} lines'.format(out_sel_element.replace('.osm','-lines.geojson'),out_sel_element)\n",
    "    \n",
    "    os.system(terminal_code)\n",
    "    \n",
    "    print ('lines extracted')\n",
    "    \n",
    "    #for multipolygons\n",
    "    terminal_code = 'ogr2ogr -f GeoJSON {} {} multipolygons'.format(out_sel_element.replace('.osm','-multipolygons.geojson'),out_sel_element)\n",
    "    \n",
    "    os.system(terminal_code)\n",
    "    \n",
    "    print ('multipolygons extracted')"
   ]
  },
  {
   "cell_type": "code",
   "execution_count": 7,
   "metadata": {},
   "outputs": [
    {
     "name": "stdout",
     "output_type": "stream",
     "text": [
      "E:\\AAA_Study\\202003_GraduationProject\\MapData\\OSMData\\sources\\beijing_china.osm.pbf converted to E:\\AAA_Study\\202003_GraduationProject\\MapData\\OSMData\\sources\\beijing_china.osm\n",
      "E:\\AAA_Study\\202003_GraduationProject\\MapData\\OSMData\\sources\\beijing_china-airport.osm\n",
      "airport extracted from E:\\AAA_Study\\202003_GraduationProject\\MapData\\OSMData\\sources\\beijing_china.osm\n",
      "points extracted\n",
      "lines extracted\n",
      "multipolygons extracted\n"
     ]
    }
   ],
   "source": [
    "# For airports\n",
    "sel_element = 'airport'\n",
    "for i in range(len(OSMData_filenames[:1])):\n",
    "    input_args =  (OSMData_filenames[i],sel_element)\n",
    "    convert_extract_convert(input_args)"
   ]
  },
  {
   "cell_type": "code",
   "execution_count": 34,
   "metadata": {},
   "outputs": [
    {
     "name": "stdout",
     "output_type": "stream",
     "text": [
      "0\n"
     ]
    },
    {
     "data": {
      "text/plain": [
       "[]"
      ]
     },
     "execution_count": 34,
     "metadata": {},
     "output_type": "execute_result"
    }
   ],
   "source": [
    "data_dir = \"E:\\\\AAA_Study\\\\202003_GraduationProject\\\\MapData\\\\OSMData\\\\0330highway_motorway\\\\\"\n",
    "geojson_filenames = []\n",
    "counter = 1\n",
    "for filename in glob.glob(os.path.join(data_dir, '*.geojson')):    \n",
    "    geojson_filenames.append(filename)\n",
    "\n",
    "print (len(geojson_filenames))\n",
    "geojson_filenames"
   ]
  },
  {
   "cell_type": "code",
   "execution_count": null,
   "metadata": {},
   "outputs": [],
   "source": []
  }
 ],
 "metadata": {
  "kernelspec": {
   "display_name": "Python 3",
   "language": "python",
   "name": "python3"
  },
  "language_info": {
   "codemirror_mode": {
    "name": "ipython",
    "version": 3
   },
   "file_extension": ".py",
   "mimetype": "text/x-python",
   "name": "python",
   "nbconvert_exporter": "python",
   "pygments_lexer": "ipython3",
   "version": "3.7.3"
  }
 },
 "nbformat": 4,
 "nbformat_minor": 2
}
